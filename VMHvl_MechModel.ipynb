{
 "cells": [
  {
   "cell_type": "markdown",
   "metadata": {},
   "source": [
    "# Mechanistic modeling of VMHvl line attractor dynamics\n",
    "\n",
    "By Charles Xu @ Caltech, 2024.\n",
    "\n",
    "This notebook builds on the work by Isa in 2024 to further generalize on other plausible mechanisms of the implementation of the VMHvl line attractor.\n",
    "\n",
    "## Environment"
   ]
  },
  {
   "cell_type": "code",
   "execution_count": 1,
   "metadata": {},
   "outputs": [],
   "source": [
    "from netpyne import specs, sim\n",
    "import numpy as np\n",
    "import matplotlib.pyplot as plt"
   ]
  },
  {
   "cell_type": "markdown",
   "metadata": {},
   "source": [
    "## Neuron model"
   ]
  },
  {
   "cell_type": "code",
   "execution_count": 2,
   "metadata": {},
   "outputs": [],
   "source": [
    "# Parameters\n",
    "N = 1000\n",
    "thr = 0.09\n",
    "g_input = 6\n",
    "dt = 0.005  # s\n",
    "tau = 0.1  # s\n",
    "\n",
    "# Create a NetParams object to store network parameters\n",
    "netParams = specs.NetParams()\n",
    "\n",
    "# Define cell properties\n",
    "netParams.cellParams['IF_cell'] = {\n",
    "    'conds': {'cellType': 'IF', 'cellModel': 'IntFire1'},\n",
    "    'secs': {'soma': {'pointps': {'IntFire1': {'tau': 100, 'refrac': 1}}}}\n",
    "}\n"
   ]
  },
  {
   "cell_type": "markdown",
   "metadata": {},
   "source": [
    "## Network topology"
   ]
  },
  {
   "cell_type": "code",
   "execution_count": 3,
   "metadata": {},
   "outputs": [],
   "source": [
    "## Connectivity parameters\n",
    "\n",
    "N = 1000\n",
    "x1_percentage = 0.5  # Example percentage, adjust as needed\n",
    "x2_percentage = 0.5\n",
    "\n",
    "num_x1_neurons = int((N / 5) * x1_percentage)\n",
    "num_x2_neurons = int((N / 5) * x2_percentage)\n",
    "num_other_neurons = N - num_x1_neurons - num_x2_neurons\n",
    "\n",
    "# Create populations\n",
    "netParams.popParams['x1'] = {'cellType': 'IF', 'numCells': num_x1_neurons}\n",
    "netParams.popParams['x2'] = {'cellType': 'IF', 'numCells': num_x2_neurons}\n",
    "netParams.popParams['other'] = {'cellType': 'IF', 'numCells': num_other_neurons}"
   ]
  },
  {
   "cell_type": "code",
   "execution_count": 4,
   "metadata": {},
   "outputs": [],
   "source": [
    "# Initialize random connectivity\n",
    "# General connectivity parameters\n",
    "prob_connection = 0.01\n",
    "weight = 1.0 / np.sqrt(N)\n",
    "delay = 1  # ms\n",
    "\n",
    "# Define synaptic mechanism\n",
    "netParams.synMechParams['exc'] = {'mod': 'ExpSyn', 'tau': 2, 'e': 0}\n",
    "\n",
    "# Connect neurons randomly with specified probability\n",
    "netParams.connParams['randConnect'] = {\n",
    "    'preConds': {'pop': ['x1', 'x2', 'other']},\n",
    "    'postConds': {'pop': ['x1', 'x2', 'other']},\n",
    "    'probability': prob_connection,\n",
    "    'weight': weight,\n",
    "    'delay': delay,\n",
    "    'synMech': 'exc'\n",
    "}"
   ]
  },
  {
   "cell_type": "code",
   "execution_count": 5,
   "metadata": {},
   "outputs": [],
   "source": [
    "## Subnetwork connectivity\n",
    "\n",
    "N_sub = int(0.2 * N)  # Subnetwork size\n",
    "prob_subnet = 0.38\n",
    "\n",
    "# Connect neurons within the subnetwork\n",
    "netParams.connParams['subnetConnect'] = {\n",
    "    'preConds': {'pop': ['x1']},  # Assuming x1 neurons form the subnetwork\n",
    "    'postConds': {'pop': ['x1']},\n",
    "    'probability': prob_subnet,\n",
    "    'weight': weight,\n",
    "    'delay': delay,\n",
    "    'synMech': 'exc'\n",
    "}"
   ]
  },
  {
   "cell_type": "markdown",
   "metadata": {},
   "source": [
    "## Input"
   ]
  },
  {
   "cell_type": "code",
   "execution_count": 6,
   "metadata": {},
   "outputs": [],
   "source": [
    "## Input parameters\n",
    "\n",
    "tOn = 2.5 * 1e3  # Convert to ms\n",
    "tOff = 4.5 * 1e3\n",
    "stim_times = [tOn, tOff]\n",
    "\n",
    "# Additional pulses at specified times\n",
    "additional_pulses = [(24.5, 26.5), (46.5, 48.5), (68.5, 70.5)]\n",
    "for pulse in additional_pulses:\n",
    "    t_start = pulse[0] * 1e3\n",
    "    t_end = pulse[1] * 1e3\n",
    "    stim_times.extend([t_start, t_end])"
   ]
  },
  {
   "cell_type": "code",
   "execution_count": 7,
   "metadata": {},
   "outputs": [],
   "source": [
    "# External input parameters\n",
    "netParams.stimSourceParams['inputStim'] = {'type': 'NetStim', 'interval': 1e9,\n",
    "                                           'number': 1, 'start': tOn, 'noise': 0}\n",
    "\n",
    "# Connect the NetStim to x1 and x2 neurons\n",
    "netParams.stimTargetParams['inputStim->x1'] = {\n",
    "    'source': 'inputStim',\n",
    "    'conds': {'pop': 'x1'},\n",
    "    'weight': g_input,\n",
    "    'delay': 0,\n",
    "    'synMech': 'exc'\n",
    "}\n",
    "\n",
    "netParams.stimTargetParams['inputStim->x2'] = {\n",
    "    'source': 'inputStim',\n",
    "    'conds': {'pop': 'x2'},\n",
    "    'weight': g_input,\n",
    "    'delay': 0,\n",
    "    'synMech': 'exc'\n",
    "}"
   ]
  },
  {
   "cell_type": "markdown",
   "metadata": {},
   "source": [
    "## Simulation"
   ]
  },
  {
   "cell_type": "code",
   "execution_count": 8,
   "metadata": {},
   "outputs": [],
   "source": [
    "simConfig = specs.SimConfig()\n",
    "\n",
    "# Simulation parameters\n",
    "simConfig.duration = 200 * 1e3  # Simulation time in ms\n",
    "simConfig.dt = dt * 1e3  # Timestep in ms\n",
    "\n",
    "# Recording options\n",
    "simConfig.recordTraces = {\n",
    "    'V_soma': {'sec': 'soma', 'loc': 0.5, 'var': 'v'}\n",
    "}\n",
    "\n",
    "simConfig.recordStep = 0.1  # Step size in ms\n",
    "simConfig.filename = 'hypothalamic_sim'  # Set filename\n",
    "simConfig.saveJson = True  # Save to JSON for analysis\n",
    "\n",
    "# Analysis and plotting\n",
    "simConfig.analysis['plotRaster'] = {'orderBy': 'pop', 'popRates': True}\n",
    "simConfig.analysis['plotTraces'] = {'include': [('x1', 0), ('x2', 0)]}\n",
    "simConfig.analysis['plotSpikeStats'] = {'stats': ['rate', 'isicv', 'sync']}"
   ]
  },
  {
   "cell_type": "code",
   "execution_count": 9,
   "metadata": {},
   "outputs": [],
   "source": [
    "# Set a random seed for reproducibility if needed\n",
    "simConfig.hParams['randseed'] = 1"
   ]
  },
  {
   "cell_type": "code",
   "execution_count": 10,
   "metadata": {},
   "outputs": [
    {
     "name": "stdout",
     "output_type": "stream",
     "text": [
      "\n",
      "Start time:  2024-09-17 16:46:00.598562\n",
      "\n",
      "Creating network of 3 cell populations on 1 hosts...\n",
      "  Number of cells on node 0: 1000 \n",
      "  Done; cell creation time = 0.07 s.\n",
      "Making connections...\n",
      "  Number of connections on node 0: 0 \n",
      "  Done; cell connection time = 1.58 s.\n",
      "Adding stims...\n",
      "  Number of stims on node 0: 0 \n",
      "  Done; cell stims creation time = 0.00 s.\n",
      "Recording 0 traces of 0 types on node 0\n",
      "\n",
      "Running simulation using NEURON for 200000.0 ms...\n",
      "  Done; run time = 0.08 s; real-time ratio: 2545.17.\n",
      "\n",
      "Gathering data...\n",
      "  Done; gather time = 0.06 s.\n",
      "\n",
      "Analyzing...\n",
      "  Cells: 1000\n",
      "  Connections: 0 (0.00 per cell)\n",
      "  Spikes: 0 (0.00 Hz)\n",
      "  Simulated time: 200.0 s; 1 workers\n",
      "  Run time: 0.08 s\n",
      "Saving output as hypothalamic_sim_data.json ... \n",
      "Finished saving!\n",
      "  Done; saving time = 1.10 s.\n",
      "Preparing spike data...\n",
      "\n",
      "There was an exception in prepareSpikeData()\n",
      "Plotting raster...\n",
      "\n",
      "There was an exception in plotRaster()\n",
      "Plotting recorded cell traces ... cell\n"
     ]
    },
    {
     "name": "stderr",
     "output_type": "stream",
     "text": [
      "Traceback (most recent call last):\n",
      "  File \"/home/charlesxu/anaconda3/envs/neuraldynamics/lib/python3.9/site-packages/netpyne/analysis/utils.py\", line 87, in wrapper\n",
      "    return function(*args, **kwargs)\n",
      "  File \"/home/charlesxu/anaconda3/envs/neuraldynamics/lib/python3.9/site-packages/netpyne/analysis/spikes.py\", line 86, in prepareSpikeData\n",
      "    df['popInd'].cat.set_categories(sim.net.pops.keys(), inplace=True)\n",
      "  File \"/home/charlesxu/anaconda3/envs/neuraldynamics/lib/python3.9/site-packages/pandas/core/accessor.py\", line 112, in f\n",
      "    return self._delegate_method(name, *args, **kwargs)\n",
      "  File \"/home/charlesxu/anaconda3/envs/neuraldynamics/lib/python3.9/site-packages/pandas/core/arrays/categorical.py\", line 2941, in _delegate_method\n",
      "    res = method(*args, **kwargs)\n",
      "TypeError: set_categories() got an unexpected keyword argument 'inplace'\n",
      "Traceback (most recent call last):\n",
      "  File \"/home/charlesxu/anaconda3/envs/neuraldynamics/lib/python3.9/site-packages/netpyne/analysis/utils.py\", line 87, in wrapper\n",
      "    return function(*args, **kwargs)\n",
      "  File \"/home/charlesxu/anaconda3/envs/neuraldynamics/lib/python3.9/site-packages/netpyne/plotting/plotRaster.py\", line 277, in plotRaster\n",
      "    popNumCells = [max(spkInds)]\n",
      "UnboundLocalError: local variable 'spkInds' referenced before assignment\n"
     ]
    },
    {
     "data": {
      "text/plain": [
       "<Figure size 1000x800 with 0 Axes>"
      ]
     },
     "metadata": {},
     "output_type": "display_data"
    },
    {
     "data": {
      "text/plain": [
       "<Figure size 1000x800 with 0 Axes>"
      ]
     },
     "metadata": {},
     "output_type": "display_data"
    },
    {
     "name": "stdout",
     "output_type": "stream",
     "text": [
      "Plotting spike stats...\n"
     ]
    },
    {
     "data": {
      "image/png": "[encoded data removed]",
      "text/plain": [
       "<Figure size 600x800 with 1 Axes>"
      ]
     },
     "metadata": {},
     "output_type": "display_data"
    },
    {
     "data": {
      "image/png": "[encoded data removed]",
      "text/plain": [
       "<Figure size 600x800 with 1 Axes>"
      ]
     },
     "metadata": {},
     "output_type": "display_data"
    },
    {
     "name": "stdout",
     "output_type": "stream",
     "text": [
      "Error: plotSpikeStats() requires the PySpike python package                             to calculate synchrony (try: pip install pyspike)\n",
      "  Done; plotting time = 0.23 s\n",
      "\n",
      "Total time = 3.12 s\n"
     ]
    },
    {
     "data": {
      "image/png": "[encoded data removed]",
      "text/plain": [
       "<Figure size 600x800 with 1 Axes>"
      ]
     },
     "metadata": {},
     "output_type": "display_data"
    }
   ],
   "source": [
    "# Create network and run simulation\n",
    "sim.createSimulateAnalyze(netParams=netParams, simConfig=simConfig)"
   ]
  },
  {
   "cell_type": "markdown",
   "metadata": {},
   "source": [
    "## Analysis"
   ]
  },
  {
   "cell_type": "code",
   "execution_count": 11,
   "metadata": {},
   "outputs": [
    {
     "ename": "ImportError",
     "evalue": "cannot import name 'calculateRates' from 'netpyne.analysis.spikes' (/home/charlesxu/anaconda3/envs/neuraldynamics/lib/python3.9/site-packages/netpyne/analysis/spikes.py)",
     "output_type": "error",
     "traceback": [
      "\u001b[0;31m---------------------------------------------------------------------------\u001b[0m",
      "\u001b[0;31mImportError\u001b[0m                               Traceback (most recent call last)",
      "Cell \u001b[0;32mIn[11], line 6\u001b[0m\n\u001b[1;32m      3\u001b[0m spike_ids \u001b[38;5;241m=\u001b[39m sim\u001b[38;5;241m.\u001b[39mallSimData[\u001b[38;5;124m'\u001b[39m\u001b[38;5;124mspkid\u001b[39m\u001b[38;5;124m'\u001b[39m]\n\u001b[1;32m      5\u001b[0m \u001b[38;5;66;03m# Compute firing rates for x1 and x2 populations\u001b[39;00m\n\u001b[0;32m----> 6\u001b[0m \u001b[38;5;28;01mfrom\u001b[39;00m \u001b[38;5;21;01mnetpyne\u001b[39;00m\u001b[38;5;21;01m.\u001b[39;00m\u001b[38;5;21;01manalysis\u001b[39;00m\u001b[38;5;21;01m.\u001b[39;00m\u001b[38;5;21;01mspikes\u001b[39;00m \u001b[38;5;28;01mimport\u001b[39;00m calculateRates\n\u001b[1;32m      8\u001b[0m rates \u001b[38;5;241m=\u001b[39m calculateRates(timeRange\u001b[38;5;241m=\u001b[39m[\u001b[38;5;241m0\u001b[39m, simConfig\u001b[38;5;241m.\u001b[39mduration])\n\u001b[1;32m     10\u001b[0m \u001b[38;5;66;03m# Extract and plot ramping activity\u001b[39;00m\n",
      "\u001b[0;31mImportError\u001b[0m: cannot import name 'calculateRates' from 'netpyne.analysis.spikes' (/home/charlesxu/anaconda3/envs/neuraldynamics/lib/python3.9/site-packages/netpyne/analysis/spikes.py)"
     ]
    }
   ],
   "source": [
    "# Extract the data\n",
    "spike_times = sim.allSimData['spkt']\n",
    "spike_ids = sim.allSimData['spkid']\n",
    "\n",
    "# Compute firing rates for x1 and x2 populations\n",
    "from netpyne.analysis.spikes import calculateRates\n",
    "\n",
    "rates = calculateRates(timeRange=[0, simConfig.duration])\n",
    "\n",
    "# Extract and plot ramping activity\n",
    "x1_cells = sim.net.allPops['x1']['cellGids']\n",
    "x1_rates = [rates[gid] for gid in x1_cells]\n",
    "\n",
    "plt.figure()\n",
    "plt.plot(x1_rates)\n",
    "plt.title('Ramping Activity of x1 Neurons')\n",
    "plt.xlabel('Neuron Index')\n",
    "plt.ylabel('Firing Rate (Hz)')\n",
    "plt.show()"
   ]
  }
 ],
 "metadata": {
  "kernelspec": {
   "display_name": "neuraldynamics",
   "language": "python",
   "name": "python3"
  },
  "language_info": {
   "codemirror_mode": {
    "name": "ipython",
    "version": 3
   },
   "file_extension": ".py",
   "mimetype": "text/x-python",
   "name": "python",
   "nbconvert_exporter": "python",
   "pygments_lexer": "ipython3",
   "version": "3.9.18"
  }
 },
 "nbformat": 4,
 "nbformat_minor": 2
}
